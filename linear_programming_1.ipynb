{
 "cells": [
  {
   "cell_type": "markdown",
   "metadata": {},
   "source": [
    "In this notebook, I will solve the wikipedia example on Linear Programming using the gradient descent."
   ]
  },
  {
   "cell_type": "markdown",
   "metadata": {
    "deletable": true,
    "editable": true
   },
   "source": [
    "Suppose that a farmer has a piece of farm land, say $L\\, km^2$, to be planted with either wheat or barley or some combination of the two. The farmer has a limited amount of fertilizer, $F$ kilograms, and pesticide, P kilograms. Every square kilometer of wheat requires $F_1$ kilograms of fertilizer and $P_1$ kilograms of pesticide, while every square kilometer of barley requires $F_2$ kilograms of fertilizer and $P_2$ kilograms of pesticide. Let $S_1$ be the selling price of wheat per square kilometer, and $S_2$ be the selling price of barley. If we denote the area of land planted with wheat and barley by $x_1$ and $x_2$ respectively, then profit can be maximized by choosing optimal values for $x_1$ and $x_2$. This problem can be expressed with the following linear programming problem in the standard form:"
   ]
  },
  {
   "cell_type": "markdown",
   "metadata": {
    "deletable": true,
    "editable": true
   },
   "source": [
    "Maximize"
   ]
  },
  {
   "cell_type": "markdown",
   "metadata": {
    "deletable": true,
    "editable": true
   },
   "source": [
    "$S_{1}\\cdot x_{1} + S_{2} \\cdot x_{2}$\t(maximize the revenue — revenue is the \"objective function\")"
   ]
  },
  {
   "cell_type": "markdown",
   "metadata": {
    "deletable": true,
    "editable": true
   },
   "source": [
    "Subject to"
   ]
  },
  {
   "cell_type": "markdown",
   "metadata": {
    "deletable": true,
    "editable": true
   },
   "source": [
    "$x_{1} + x_{2} \\leq L$ (limit the total area)\n",
    "\n",
    "$F_{1}\\cdot x_{1} + F_{2} \\cdot x_{2} \\leq F$ (limit on fertilizer)\n",
    "\n",
    "$P_{1}\\cdot x_{1} + P_{2} \\cdot x_{2} \\leq P$ (limit on pesticide)\n",
    "\n",
    "$x_{1}\\geq 0, \\, x_{2}\\geq 0$\t(cannot plant a negative area)"
   ]
  },
  {
   "cell_type": "code",
   "execution_count": 1,
   "metadata": {
    "collapsed": true,
    "deletable": true,
    "editable": true
   },
   "outputs": [],
   "source": [
    "import tensorflow as tf\n",
    "import numpy as np"
   ]
  },
  {
   "cell_type": "code",
   "execution_count": 2,
   "metadata": {
    "collapsed": true,
    "deletable": true,
    "editable": true
   },
   "outputs": [],
   "source": [
    "session = tf.InteractiveSession()"
   ]
  },
  {
   "cell_type": "code",
   "execution_count": 3,
   "metadata": {
    "collapsed": true,
    "deletable": true,
    "editable": true
   },
   "outputs": [],
   "source": [
    "x1 = tf.Variable(name=\"x1\", dtype=\"float32\", initial_value=np.random.rand(), trainable=True)\n",
    "x1.initializer.run()\n",
    "x2 = tf.Variable(name=\"x2\", dtype=\"float32\", initial_value=np.random.rand(), trainable=True)\n",
    "x2.initializer.run()"
   ]
  },
  {
   "cell_type": "markdown",
   "metadata": {
    "deletable": true,
    "editable": true
   },
   "source": [
    "Maximize $y = s_1 \\cdot x_1 + s_2 \\cdot x_2$"
   ]
  },
  {
   "cell_type": "code",
   "execution_count": 4,
   "metadata": {
    "collapsed": true,
    "deletable": true,
    "editable": true
   },
   "outputs": [],
   "source": [
    "S1 = 10\n",
    "S2 = 15\n",
    "\n",
    "y1 = S1 * x1 + S2 * x2\n",
    "\n",
    "cost1 = -y1"
   ]
  },
  {
   "cell_type": "markdown",
   "metadata": {
    "deletable": true,
    "editable": true
   },
   "source": [
    "Constraint: $x_1 + x_2 \\leq L$\n",
    "\n",
    "Create slack variable $x_3$, and the constraint becomes $x_1 + x_2 + x_3 = L$"
   ]
  },
  {
   "cell_type": "code",
   "execution_count": 5,
   "metadata": {
    "collapsed": false,
    "deletable": true,
    "editable": true
   },
   "outputs": [],
   "source": [
    "L = 10\n",
    "\n",
    "x3 = tf.Variable(name=\"x3\", dtype=\"float32\", initial_value=np.random.rand(), trainable=True)\n",
    "x3.initializer.run()\n",
    "\n",
    "y2 = x1 + x2 + x3\n",
    "\n",
    "cost2 = (0.5) * tf.abs(y2 - L)"
   ]
  },
  {
   "cell_type": "markdown",
   "metadata": {
    "deletable": true,
    "editable": true
   },
   "source": [
    "Constraint: $F_1 \\cdot x_1 + F_2 \\cdot x_2 \\leq F$\n",
    "\n",
    "Create slack variable $x_4$, and the constraint becomes $F_1 \\cdot x_1 + F_2 \\cdot x_2 + x_4 = F$"
   ]
  },
  {
   "cell_type": "code",
   "execution_count": 6,
   "metadata": {
    "collapsed": true,
    "deletable": true,
    "editable": true
   },
   "outputs": [],
   "source": [
    "F1 = 30\n",
    "F2 = 20\n",
    "F  = 100\n",
    "\n",
    "x4 = tf.Variable(name=\"x4\", dtype=\"float32\", initial_value=np.random.rand(), trainable=True)\n",
    "x4.initializer.run()\n",
    "\n",
    "y3 = F1 * x1 + F2 * x2 + x4\n",
    "\n",
    "cost3 = (0.5) * tf.abs(y3 - F)"
   ]
  },
  {
   "cell_type": "markdown",
   "metadata": {
    "deletable": true,
    "editable": true
   },
   "source": [
    "Constraint: $P_1 \\cdot x_1 + P_2 \\cdot x_2 \\leq P$\n",
    "\n",
    "Create slack variable $x_5$, and the constraint becomes $P_1 \\cdot x_1 + P_2 \\cdot x_2 + x_5 = P$"
   ]
  },
  {
   "cell_type": "code",
   "execution_count": 7,
   "metadata": {
    "collapsed": true,
    "deletable": true,
    "editable": true
   },
   "outputs": [],
   "source": [
    "P1 = 10\n",
    "P2 = 30\n",
    "P  = 50\n",
    "\n",
    "x5 = tf.Variable(name=\"x4\", dtype=\"float32\", initial_value=np.random.rand(), trainable=True)\n",
    "x5.initializer.run()\n",
    "\n",
    "y4 = P1 * x1 + P2 * x2 + x5\n",
    "\n",
    "cost4 = (0.5) * tf.abs(y4 - P)"
   ]
  },
  {
   "cell_type": "markdown",
   "metadata": {},
   "source": [
    "Constraint: $x_1, x_2, x_3, x_4, x_5 \\geq 0$"
   ]
  },
  {
   "cell_type": "code",
   "execution_count": 8,
   "metadata": {
    "collapsed": false
   },
   "outputs": [],
   "source": [
    "cost5 = -tf.reduce_min([x1,x2,x3,x4,x5])"
   ]
  },
  {
   "cell_type": "code",
   "execution_count": 9,
   "metadata": {
    "collapsed": false,
    "deletable": true,
    "editable": true
   },
   "outputs": [],
   "source": [
    "globalCost = cost1 + cost2 + cost3 + cost4 + cost5"
   ]
  },
  {
   "cell_type": "markdown",
   "metadata": {
    "deletable": true,
    "editable": true
   },
   "source": [
    "# Initialize optimizer"
   ]
  },
  {
   "cell_type": "code",
   "execution_count": 48,
   "metadata": {
    "collapsed": false,
    "deletable": true,
    "editable": true
   },
   "outputs": [],
   "source": [
    "lr = 0.001\n",
    "\n",
    "opt1 = tf.train.GradientDescentOptimizer(learning_rate=lr).minimize(cost1)\n",
    "opt2 = tf.train.GradientDescentOptimizer(learning_rate=lr).minimize(cost2)\n",
    "opt3 = tf.train.GradientDescentOptimizer(learning_rate=lr).minimize(cost3)\n",
    "opt4 = tf.train.GradientDescentOptimizer(learning_rate=lr).minimize(cost4)\n",
    "opt5 = tf.train.GradientDescentOptimizer(learning_rate=lr).minimize(cost5)\n",
    "\n",
    "opt  = tf.train.GradientDescentOptimizer(learning_rate=lr).minimize(globalCost)"
   ]
  },
  {
   "cell_type": "code",
   "execution_count": 75,
   "metadata": {
    "collapsed": false,
    "deletable": true,
    "editable": true,
    "scrolled": true
   },
   "outputs": [
    {
     "name": "stdout",
     "output_type": "stream",
     "text": [
      "Done\n"
     ]
    }
   ],
   "source": [
    "epochs = 1000\n",
    "\n",
    "for epoch in range(epochs):\n",
    "    \n",
    "    #session.run(opt1)\n",
    "    #session.run(opt2)\n",
    "    #session.run(opt3)\n",
    "    #session.run(opt4)\n",
    "    \n",
    "    session.run(opt)\n",
    "    \n",
    "    #print 'Epoch {0:2d}'.format(epoch)\n",
    "    \n",
    "    #print 'Before clipping:'\n",
    "    #print({'x1':x1.eval(), 'x2':x2.eval(), 'y1':y1.eval()})\n",
    "    \n",
    "    continue\n",
    "    \n",
    "    x1.assign(max(0.0, x1.eval()))\n",
    "    x2.assign(max(0.0, x2.eval()))\n",
    "    x3.assign(max(0.0, x3.eval()))\n",
    "    x4.assign(max(0.0, x4.eval()))\n",
    "    x5.assign(max(0.0, x5.eval()))\n",
    "    \n",
    "    #print 'After clipping:'\n",
    "    #print({'x1':x1.eval(), 'x2':x2.eval(), 'y1':y1.eval()})\n",
    "    \n",
    "    #print('---------------')\n",
    "\n",
    "print \"Done\""
   ]
  },
  {
   "cell_type": "code",
   "execution_count": 76,
   "metadata": {
    "collapsed": false,
    "deletable": true,
    "editable": true
   },
   "outputs": [
    {
     "data": {
      "text/plain": [
       "(2.8471532, 0.71144378)"
      ]
     },
     "execution_count": 76,
     "metadata": {},
     "output_type": "execute_result"
    }
   ],
   "source": [
    "(x1.eval(), x2.eval())"
   ]
  },
  {
   "cell_type": "code",
   "execution_count": 77,
   "metadata": {
    "collapsed": false,
    "deletable": true,
    "editable": true
   },
   "outputs": [
    {
     "data": {
      "text/plain": [
       "(2.857142857142857, 0.7142857142857143)"
      ]
     },
     "execution_count": 77,
     "metadata": {},
     "output_type": "execute_result"
    }
   ],
   "source": [
    "# optimal value, calculate through this page: \n",
    "# http://www.wolframalpha.com/widget/widgetPopup.jsp?p=v&id=1e692c6f72587b2cbd3e7be018fd8960&title=Linear%20Programming%20Calculator&theme=blue\n",
    "(20.0/7.0, 5.0/7.0)"
   ]
  },
  {
   "cell_type": "code",
   "execution_count": null,
   "metadata": {
    "collapsed": true
   },
   "outputs": [],
   "source": []
  }
 ],
 "metadata": {
  "kernelspec": {
   "display_name": "Python 2",
   "language": "python",
   "name": "python2"
  },
  "language_info": {
   "codemirror_mode": {
    "name": "ipython",
    "version": 2
   },
   "file_extension": ".py",
   "mimetype": "text/x-python",
   "name": "python",
   "nbconvert_exporter": "python",
   "pygments_lexer": "ipython2",
   "version": "2.7.11+"
  }
 },
 "nbformat": 4,
 "nbformat_minor": 2
}
